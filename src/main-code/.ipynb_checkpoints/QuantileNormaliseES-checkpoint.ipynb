{
 "cells": [
  {
   "cell_type": "markdown",
   "metadata": {},
   "source": [
    "# Trying to better understand how ESmu is calculated"
   ]
  },
  {
   "cell_type": "code",
   "execution_count": 1,
   "metadata": {},
   "outputs": [],
   "source": [
    "### Load libraries\n",
    "import loompy\n",
    "import os\n",
    "import sem.es as es\n",
    "import numpy as np\n",
    "import pandas as pd\n",
    "import datetime"
   ]
  },
  {
   "cell_type": "code",
   "execution_count": 7,
   "metadata": {},
   "outputs": [],
   "source": [
    "metrics = ['ges', 'si', 'ss', 'tstat']\n",
    "\n",
    "ESW_dict = {}\n",
    "ESW_star_dict = {}\n",
    "\n",
    "for m in metrics:\n",
    "    ESW_dict[m] = pd.read_csv('out_cell_type/cell_type.{}.esw.csv.gz'.format(m), index_col = 0)\n",
    "    ESW_star_dict[m] = pd.read_csv('out_cell_type/cell_type.{}.esw_s.csv.gz'.format(m), index_col = 0)"
   ]
  },
  {
   "cell_type": "code",
   "execution_count": 22,
   "metadata": {},
   "outputs": [
    {
     "data": {
      "text/html": [
       "<div>\n",
       "<style scoped>\n",
       "    .dataframe tbody tr th:only-of-type {\n",
       "        vertical-align: middle;\n",
       "    }\n",
       "\n",
       "    .dataframe tbody tr th {\n",
       "        vertical-align: top;\n",
       "    }\n",
       "\n",
       "    .dataframe thead th {\n",
       "        text-align: right;\n",
       "    }\n",
       "</style>\n",
       "<table border=\"1\" class=\"dataframe\">\n",
       "  <thead>\n",
       "    <tr style=\"text-align: right;\">\n",
       "      <th></th>\n",
       "      <th>Astro</th>\n",
       "      <th>Ependy</th>\n",
       "      <th>Epith1</th>\n",
       "      <th>Epith2</th>\n",
       "      <th>GABA1</th>\n",
       "      <th>GABA10</th>\n",
       "      <th>GABA11</th>\n",
       "      <th>GABA12</th>\n",
       "      <th>GABA13</th>\n",
       "      <th>GABA14</th>\n",
       "      <th>...</th>\n",
       "      <th>IMO</th>\n",
       "      <th>MO</th>\n",
       "      <th>Macro</th>\n",
       "      <th>Micro</th>\n",
       "      <th>OPC</th>\n",
       "      <th>POPC</th>\n",
       "      <th>SCO</th>\n",
       "      <th>Tany</th>\n",
       "      <th>nan</th>\n",
       "      <th>zothers</th>\n",
       "    </tr>\n",
       "    <tr>\n",
       "      <th>gene</th>\n",
       "      <th></th>\n",
       "      <th></th>\n",
       "      <th></th>\n",
       "      <th></th>\n",
       "      <th></th>\n",
       "      <th></th>\n",
       "      <th></th>\n",
       "      <th></th>\n",
       "      <th></th>\n",
       "      <th></th>\n",
       "      <th></th>\n",
       "      <th></th>\n",
       "      <th></th>\n",
       "      <th></th>\n",
       "      <th></th>\n",
       "      <th></th>\n",
       "      <th></th>\n",
       "      <th></th>\n",
       "      <th></th>\n",
       "      <th></th>\n",
       "      <th></th>\n",
       "    </tr>\n",
       "  </thead>\n",
       "  <tbody>\n",
       "    <tr>\n",
       "      <th>0610007C21Rik</th>\n",
       "      <td>0.332926</td>\n",
       "      <td>0.000000</td>\n",
       "      <td>0.000000</td>\n",
       "      <td>0.000000</td>\n",
       "      <td>0.0</td>\n",
       "      <td>0.0</td>\n",
       "      <td>0.0</td>\n",
       "      <td>0.259599</td>\n",
       "      <td>0.180617</td>\n",
       "      <td>0.0</td>\n",
       "      <td>...</td>\n",
       "      <td>0.334217</td>\n",
       "      <td>0.026699</td>\n",
       "      <td>0.000000</td>\n",
       "      <td>0.000000</td>\n",
       "      <td>0.624941</td>\n",
       "      <td>0.00000</td>\n",
       "      <td>0.000000</td>\n",
       "      <td>0.392572</td>\n",
       "      <td>0.0</td>\n",
       "      <td>0.306397</td>\n",
       "    </tr>\n",
       "    <tr>\n",
       "      <th>0610007L01Rik</th>\n",
       "      <td>0.000000</td>\n",
       "      <td>0.000000</td>\n",
       "      <td>0.106763</td>\n",
       "      <td>0.000000</td>\n",
       "      <td>0.0</td>\n",
       "      <td>0.0</td>\n",
       "      <td>0.0</td>\n",
       "      <td>0.166189</td>\n",
       "      <td>0.541410</td>\n",
       "      <td>0.0</td>\n",
       "      <td>...</td>\n",
       "      <td>0.092756</td>\n",
       "      <td>0.000000</td>\n",
       "      <td>0.004345</td>\n",
       "      <td>0.018135</td>\n",
       "      <td>0.000000</td>\n",
       "      <td>0.00000</td>\n",
       "      <td>0.173805</td>\n",
       "      <td>0.000000</td>\n",
       "      <td>0.0</td>\n",
       "      <td>0.008230</td>\n",
       "    </tr>\n",
       "    <tr>\n",
       "      <th>0610007N19Rik</th>\n",
       "      <td>0.000000</td>\n",
       "      <td>0.000000</td>\n",
       "      <td>0.000000</td>\n",
       "      <td>0.889706</td>\n",
       "      <td>0.0</td>\n",
       "      <td>0.0</td>\n",
       "      <td>0.0</td>\n",
       "      <td>0.000000</td>\n",
       "      <td>0.000000</td>\n",
       "      <td>0.0</td>\n",
       "      <td>...</td>\n",
       "      <td>0.000000</td>\n",
       "      <td>0.000000</td>\n",
       "      <td>0.000000</td>\n",
       "      <td>0.000000</td>\n",
       "      <td>0.000000</td>\n",
       "      <td>0.00000</td>\n",
       "      <td>0.000000</td>\n",
       "      <td>0.728361</td>\n",
       "      <td>0.0</td>\n",
       "      <td>0.000000</td>\n",
       "    </tr>\n",
       "    <tr>\n",
       "      <th>0610007P08Rik</th>\n",
       "      <td>0.000000</td>\n",
       "      <td>0.186893</td>\n",
       "      <td>0.000000</td>\n",
       "      <td>0.000000</td>\n",
       "      <td>0.0</td>\n",
       "      <td>0.0</td>\n",
       "      <td>0.0</td>\n",
       "      <td>0.120344</td>\n",
       "      <td>0.000000</td>\n",
       "      <td>0.0</td>\n",
       "      <td>...</td>\n",
       "      <td>0.000000</td>\n",
       "      <td>0.234830</td>\n",
       "      <td>0.000000</td>\n",
       "      <td>0.000000</td>\n",
       "      <td>0.000000</td>\n",
       "      <td>0.00000</td>\n",
       "      <td>0.000000</td>\n",
       "      <td>0.000000</td>\n",
       "      <td>0.0</td>\n",
       "      <td>0.000000</td>\n",
       "    </tr>\n",
       "    <tr>\n",
       "      <th>0610007P14Rik</th>\n",
       "      <td>0.000000</td>\n",
       "      <td>0.000000</td>\n",
       "      <td>0.000000</td>\n",
       "      <td>0.000000</td>\n",
       "      <td>0.0</td>\n",
       "      <td>0.0</td>\n",
       "      <td>0.0</td>\n",
       "      <td>0.000000</td>\n",
       "      <td>0.000000</td>\n",
       "      <td>0.0</td>\n",
       "      <td>...</td>\n",
       "      <td>0.819788</td>\n",
       "      <td>0.007282</td>\n",
       "      <td>0.000000</td>\n",
       "      <td>0.000000</td>\n",
       "      <td>0.843119</td>\n",
       "      <td>0.20332</td>\n",
       "      <td>0.000000</td>\n",
       "      <td>0.000000</td>\n",
       "      <td>0.0</td>\n",
       "      <td>0.000000</td>\n",
       "    </tr>\n",
       "  </tbody>\n",
       "</table>\n",
       "<p>5 rows × 48 columns</p>\n",
       "</div>"
      ],
      "text/plain": [
       "                  Astro    Ependy    Epith1    Epith2  GABA1  GABA10  GABA11  \\\n",
       "gene                                                                           \n",
       "0610007C21Rik  0.332926  0.000000  0.000000  0.000000    0.0     0.0     0.0   \n",
       "0610007L01Rik  0.000000  0.000000  0.106763  0.000000    0.0     0.0     0.0   \n",
       "0610007N19Rik  0.000000  0.000000  0.000000  0.889706    0.0     0.0     0.0   \n",
       "0610007P08Rik  0.000000  0.186893  0.000000  0.000000    0.0     0.0     0.0   \n",
       "0610007P14Rik  0.000000  0.000000  0.000000  0.000000    0.0     0.0     0.0   \n",
       "\n",
       "                 GABA12    GABA13  GABA14    ...          IMO        MO  \\\n",
       "gene                                         ...                          \n",
       "0610007C21Rik  0.259599  0.180617     0.0    ...     0.334217  0.026699   \n",
       "0610007L01Rik  0.166189  0.541410     0.0    ...     0.092756  0.000000   \n",
       "0610007N19Rik  0.000000  0.000000     0.0    ...     0.000000  0.000000   \n",
       "0610007P08Rik  0.120344  0.000000     0.0    ...     0.000000  0.234830   \n",
       "0610007P14Rik  0.000000  0.000000     0.0    ...     0.819788  0.007282   \n",
       "\n",
       "                  Macro     Micro       OPC     POPC       SCO      Tany  nan  \\\n",
       "gene                                                                            \n",
       "0610007C21Rik  0.000000  0.000000  0.624941  0.00000  0.000000  0.392572  0.0   \n",
       "0610007L01Rik  0.004345  0.018135  0.000000  0.00000  0.173805  0.000000  0.0   \n",
       "0610007N19Rik  0.000000  0.000000  0.000000  0.00000  0.000000  0.728361  0.0   \n",
       "0610007P08Rik  0.000000  0.000000  0.000000  0.00000  0.000000  0.000000  0.0   \n",
       "0610007P14Rik  0.000000  0.000000  0.843119  0.20332  0.000000  0.000000  0.0   \n",
       "\n",
       "                zothers  \n",
       "gene                     \n",
       "0610007C21Rik  0.306397  \n",
       "0610007L01Rik  0.008230  \n",
       "0610007N19Rik  0.000000  \n",
       "0610007P08Rik  0.000000  \n",
       "0610007P14Rik  0.000000  \n",
       "\n",
       "[5 rows x 48 columns]"
      ]
     },
     "execution_count": 22,
     "metadata": {},
     "output_type": "execute_result"
    }
   ],
   "source": [
    "ESW_star_dict['tstat'].head()"
   ]
  },
  {
   "cell_type": "code",
   "execution_count": 25,
   "metadata": {},
   "outputs": [
    {
     "name": "stdout",
     "output_type": "stream",
     "text": [
      "False    11571\n",
      "True      2458\n",
      "Name: Astro, dtype: int64\n",
      "False    12709\n",
      "True      1320\n",
      "Name: Astro, dtype: int64\n",
      "False    11838\n",
      "True      2191\n",
      "Name: Astro, dtype: int64\n",
      "False    12392\n",
      "True      1637\n",
      "Name: Astro, dtype: int64\n",
      "False    11668\n",
      "True      2361\n",
      "Name: Ependy, dtype: int64\n",
      "False    10428\n",
      "True      3601\n",
      "Name: Ependy, dtype: int64\n"
     ]
    }
   ],
   "source": [
    "print((ESW_star_dict['si'].Astro > 0).value_counts())\n",
    "print((ESW_star_dict['ges'].Astro > 0).value_counts())\n",
    "print((ESW_star_dict['ss'].Astro > 0).value_counts())\n",
    "print((ESW_star_dict['tstat'].Astro > 0).value_counts())\n",
    "print((ESW_star_dict['si'].Ependy > 0).value_counts())\n",
    "print((ESW_star_dict['tstat'].Ependy > 0).value_counts())"
   ]
  },
  {
   "cell_type": "markdown",
   "metadata": {},
   "source": [
    "OK, as I expected after comparing for significance we do indeed get a different number of genes which are significant between metrics. If ESmu is then simply the mean of all the metrics then it should have greater than or equal to genes than any of the individual metrics."
   ]
  },
  {
   "cell_type": "code",
   "execution_count": 21,
   "metadata": {},
   "outputs": [],
   "source": [
    "ESmu = pd.read_csv('out_cell_type/cell_type.esmu.csv.gz', index_col = 0)"
   ]
  },
  {
   "cell_type": "code",
   "execution_count": 26,
   "metadata": {},
   "outputs": [
    {
     "data": {
      "text/plain": [
       "False    10896\n",
       "True      3133\n",
       "Name: Astro, dtype: int64"
      ]
     },
     "execution_count": 26,
     "metadata": {},
     "output_type": "execute_result"
    }
   ],
   "source": [
    "(ESmu.Astro > 0).value_counts()"
   ]
  },
  {
   "cell_type": "markdown",
   "metadata": {},
   "source": [
    "It does indeed seem that ESmu is simply the mean across all metrics thus genes that are only specific in one metric will still be included in the final ESmu metric but with little weighting. In order to quantile normalise the metrics I will need to take the original metrics (ESw)"
   ]
  },
  {
   "cell_type": "markdown",
   "metadata": {},
   "source": [
    "OK - lets take a look at the distribution of ESw, ESW_star, ESmu and min-max normalised ESw. Because I need a way to get these values into a 0-1 range and min-max normalisation makes the most sense to me but **preservation of distribution is of utmost importance** so I should at least take a peak at the data to ensure this isn't ruining the shape prior to trying out quantile normalisation."
   ]
  },
  {
   "cell_type": "code",
   "execution_count": 35,
   "metadata": {},
   "outputs": [],
   "source": [
    "import matplotlib.pyplot as plt"
   ]
  },
  {
   "cell_type": "markdown",
   "metadata": {},
   "source": [
    "### Check out distribution of an ESw* and ESmu"
   ]
  },
  {
   "cell_type": "code",
   "execution_count": 36,
   "metadata": {},
   "outputs": [
    {
     "data": {
      "text/plain": [
       "(array([1003.,  593.,  328.,  252.,  176.,  167.,  140.,  172.,  154.,\n",
       "         148.]),\n",
       " array([2.28206298e-04, 9.89750664e-02, 1.97721927e-01, 2.96468787e-01,\n",
       "        3.95215647e-01, 4.93962507e-01, 5.92709367e-01, 6.91456227e-01,\n",
       "        7.90203087e-01, 8.88949947e-01, 9.87696807e-01]),\n",
       " <a list of 10 Patch objects>)"
      ]
     },
     "execution_count": 36,
     "metadata": {},
     "output_type": "execute_result"
    },
    {
     "data": {
      "image/png": "[encoded data removed]",
      "text/plain": [
       "<Figure size 432x288 with 1 Axes>"
      ]
     },
     "metadata": {},
     "output_type": "display_data"
    },
    {
     "data": {
      "image/png": "[encoded data removed]",
      "text/plain": [
       "<Figure size 432x288 with 1 Axes>"
      ]
     },
     "metadata": {},
     "output_type": "display_data"
    }
   ],
   "source": [
    "plt.figure()\n",
    "plt.hist(ESW_star_dict['tstat'].Astro[ESW_star_dict['tstat'].Astro > 0])\n",
    "plt.figure()\n",
    "plt.hist(ESmu.Astro[ESmu.Astro > 0])"
   ]
  },
  {
   "cell_type": "markdown",
   "metadata": {},
   "source": [
    "Uniform as expected for ESw-star but surprisingly much more genes involved around 0 than I expected for the ESmu."
   ]
  },
  {
   "cell_type": "markdown",
   "metadata": {},
   "source": [
    "# Check out distribution of various ESw's"
   ]
  },
  {
   "cell_type": "code",
   "execution_count": 37,
   "metadata": {},
   "outputs": [
    {
     "data": {
      "text/plain": [
       "(array([1.4028e+04, 0.0000e+00, 0.0000e+00, 0.0000e+00, 0.0000e+00,\n",
       "        0.0000e+00, 0.0000e+00, 0.0000e+00, 0.0000e+00, 1.0000e+00]),\n",
       " array([0.00000000e+00, 7.80511230e+97, 1.56102246e+98, 2.34153369e+98,\n",
       "        3.12204492e+98, 3.90255615e+98, 4.68306738e+98, 5.46357861e+98,\n",
       "        6.24408984e+98, 7.02460107e+98, 7.80511230e+98]),\n",
       " <a list of 10 Patch objects>)"
      ]
     },
     "execution_count": 37,
     "metadata": {},
     "output_type": "execute_result"
    },
    {
     "data": {
      "image/png": "[encoded data removed]",
      "text/plain": [
       "<Figure size 432x288 with 1 Axes>"
      ]
     },
     "metadata": {},
     "output_type": "display_data"
    },
    {
     "data": {
      "image/png": "[encoded data removed]",
      "text/plain": [
       "<Figure size 432x288 with 1 Axes>"
      ]
     },
     "metadata": {},
     "output_type": "display_data"
    },
    {
     "data": {
      "image/png": "[encoded data removed]",
      "text/plain": [
       "<Figure size 432x288 with 1 Axes>"
      ]
     },
     "metadata": {},
     "output_type": "display_data"
    },
    {
     "data": {
      "image/png": "[encoded data removed]",
      "text/plain": [
       "<Figure size 432x288 with 1 Axes>"
      ]
     },
     "metadata": {},
     "output_type": "display_data"
    }
   ],
   "source": [
    "plt.figure()\n",
    "plt.hist(ESW_dict['tstat'].Astro)\n",
    "plt.figure()\n",
    "plt.hist(ESW_dict['si'].Astro)\n",
    "plt.figure()\n",
    "plt.hist(ESW_dict['ss'].Astro)\n",
    "plt.figure()\n",
    "plt.hist(ESW_dict['ges'].Astro)"
   ]
  },
  {
   "cell_type": "code",
   "execution_count": 46,
   "metadata": {},
   "outputs": [
    {
     "name": "stdout",
     "output_type": "stream",
     "text": [
      "gene\n",
      "Acsbg1     100.507182\n",
      "Agt        192.953331\n",
      "Aldoc      115.532791\n",
      "Apoe       104.608137\n",
      "Atp1a2     113.151833\n",
      "Cldn10     111.685875\n",
      "Clu        103.566467\n",
      "Fgfr3      104.512764\n",
      "Gja1       162.880364\n",
      "Gjb6       139.584894\n",
      "Gpr37l1    143.112636\n",
      "Itih3      112.482004\n",
      "Ntsr2      178.063720\n",
      "Pla2g7     125.346670\n",
      "Ppap2b     114.508647\n",
      "Slc1a2     119.550732\n",
      "Slc1a3     129.415986\n",
      "Slc4a4     139.233718\n",
      "Slc6a11    137.562377\n",
      "Slc7a10    113.208437\n",
      "Sparcl1    103.428788\n",
      "Name: Astro, dtype: float64\n",
      "gene\n",
      "Cml5       0.970761\n",
      "Cyp4f15    0.979609\n",
      "Gm266      0.980768\n",
      "Nat8       0.972567\n",
      "Nwd1       0.970133\n",
      "Ppp1r3g    0.972690\n",
      "Ucp3       0.972400\n",
      "Name: Astro, dtype: float64\n",
      "gene\n",
      "2310043J07Rik    0.806864\n",
      "A330076C08Rik    0.924225\n",
      "Dao              0.808477\n",
      "Grifin           1.000000\n",
      "Olfr287          0.909374\n",
      "Ppp1r3g          0.804976\n",
      "Sds              0.894260\n",
      "Name: Astro, dtype: float64\n",
      "gene\n",
      "Gjb6      1.873019e+03\n",
      "Grifin    7.805112e+98\n",
      "Name: Astro, dtype: float64\n"
     ]
    }
   ],
   "source": [
    "print(ESW_dict['tstat'].Astro[ESW_dict['tstat'].Astro > 100])\n",
    "print(ESW_dict['si'].Astro[ESW_dict['si'].Astro > 0.97])\n",
    "print(ESW_dict['ss'].Astro[ESW_dict['ss'].Astro > 0.8])\n",
    "print(ESW_dict['ges'].Astro[ESW_dict['ges'].Astro > 1000])"
   ]
  },
  {
   "cell_type": "markdown",
   "metadata": {},
   "source": [
    "# What about after I slice for significant "
   ]
  },
  {
   "cell_type": "code",
   "execution_count": null,
   "metadata": {},
   "outputs": [],
   "source": []
  }
 ],
 "metadata": {
  "kernelspec": {
   "display_name": "Python [conda env:tobi-sc-env]",
   "language": "python",
   "name": "conda-env-tobi-sc-env-py"
  },
  "language_info": {
   "codemirror_mode": {
    "name": "ipython",
    "version": 3
   },
   "file_extension": ".py",
   "mimetype": "text/x-python",
   "name": "python",
   "nbconvert_exporter": "python",
   "pygments_lexer": "ipython3",
   "version": "3.6.5"
  }
 },
 "nbformat": 4,
 "nbformat_minor": 2
}
